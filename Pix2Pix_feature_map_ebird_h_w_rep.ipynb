{
  "cells": [
    {
      "cell_type": "markdown",
      "metadata": {
        "id": "view-in-github",
        "colab_type": "text"
      },
      "source": [
        "<a href=\"https://colab.research.google.com/github/WilliamShengYangHuang/Making-Design-with-Pix2Pix/blob/main/Pix2Pix_feature_map_ebird_h_w_rep.ipynb\" target=\"_parent\"><img src=\"https://colab.research.google.com/assets/colab-badge.svg\" alt=\"Open In Colab\"/></a>"
      ]
    },
    {
      "cell_type": "markdown",
      "metadata": {
        "id": "HxH0TEZCww2R"
      },
      "source": [
        "# **Making Design with Pix2Pix** "
      ]
    },
    {
      "cell_type": "markdown",
      "metadata": {
        "id": "ZPXy2bCpx8AS"
      },
      "source": [
        "Original Development: Image-to-Image Translation with Conditional Adversarial Nets: https://phillipi.github.io/pix2pix/\n",
        "\n",
        "Paper available at https://arxiv.org/abs/1611.07004\n"
      ]
    },
    {
      "cell_type": "markdown",
      "metadata": {
        "id": "P6T2IHiZyq74"
      },
      "source": [
        "Modified from the version published at https://www.tensorflow.org/tutorials/generative/pix2pix\n",
        "(Last modified on 09 July 2022 by William Huang (ucfnhua@ucl.ac.uk) and Chaleston Song)"
      ]
    },
    {
      "cell_type": "markdown",
      "metadata": {
        "id": "TD8MMkmEnzF7"
      },
      "source": [
        "## Import libraries"
      ]
    },
    {
      "cell_type": "code",
      "execution_count": null,
      "metadata": {
        "colab": {
          "base_uri": "https://localhost:8080/"
        },
        "id": "jgaKISTyArZ5",
        "outputId": "d23f0713-31fe-4d41-e542-32e5f37ef3e4"
      },
      "outputs": [
        {
          "output_type": "stream",
          "name": "stdout",
          "text": [
            "Looking in indexes: https://pypi.org/simple, https://us-python.pkg.dev/colab-wheels/public/simple/\n",
            "Requirement already satisfied: tensorflow==2.1.0 in /usr/local/lib/python3.7/dist-packages (2.1.0)\n",
            "Requirement already satisfied: grpcio>=1.8.6 in /usr/local/lib/python3.7/dist-packages (from tensorflow==2.1.0) (1.47.0)\n",
            "Requirement already satisfied: tensorflow-estimator<2.2.0,>=2.1.0rc0 in /usr/local/lib/python3.7/dist-packages (from tensorflow==2.1.0) (2.1.0)\n",
            "Requirement already satisfied: tensorboard<2.2.0,>=2.1.0 in /usr/local/lib/python3.7/dist-packages (from tensorflow==2.1.0) (2.1.1)\n",
            "Requirement already satisfied: wrapt>=1.11.1 in /usr/local/lib/python3.7/dist-packages (from tensorflow==2.1.0) (1.14.1)\n",
            "Requirement already satisfied: keras-preprocessing>=1.1.0 in /usr/local/lib/python3.7/dist-packages (from tensorflow==2.1.0) (1.1.2)\n",
            "Requirement already satisfied: numpy<2.0,>=1.16.0 in /usr/local/lib/python3.7/dist-packages (from tensorflow==2.1.0) (1.21.6)\n",
            "Requirement already satisfied: absl-py>=0.7.0 in /usr/local/lib/python3.7/dist-packages (from tensorflow==2.1.0) (1.2.0)\n",
            "Requirement already satisfied: opt-einsum>=2.3.2 in /usr/local/lib/python3.7/dist-packages (from tensorflow==2.1.0) (3.3.0)\n",
            "Requirement already satisfied: termcolor>=1.1.0 in /usr/local/lib/python3.7/dist-packages (from tensorflow==2.1.0) (1.1.0)\n",
            "Requirement already satisfied: gast==0.2.2 in /usr/local/lib/python3.7/dist-packages (from tensorflow==2.1.0) (0.2.2)\n",
            "Requirement already satisfied: keras-applications>=1.0.8 in /usr/local/lib/python3.7/dist-packages (from tensorflow==2.1.0) (1.0.8)\n",
            "Requirement already satisfied: google-pasta>=0.1.6 in /usr/local/lib/python3.7/dist-packages (from tensorflow==2.1.0) (0.2.0)\n",
            "Requirement already satisfied: scipy==1.4.1 in /usr/local/lib/python3.7/dist-packages (from tensorflow==2.1.0) (1.4.1)\n",
            "Requirement already satisfied: astor>=0.6.0 in /usr/local/lib/python3.7/dist-packages (from tensorflow==2.1.0) (0.8.1)\n",
            "Requirement already satisfied: six>=1.12.0 in /usr/local/lib/python3.7/dist-packages (from tensorflow==2.1.0) (1.15.0)\n",
            "Requirement already satisfied: protobuf>=3.8.0 in /usr/local/lib/python3.7/dist-packages (from tensorflow==2.1.0) (3.17.3)\n",
            "Requirement already satisfied: wheel>=0.26 in /usr/local/lib/python3.7/dist-packages (from tensorflow==2.1.0) (0.37.1)\n",
            "Requirement already satisfied: h5py in /usr/local/lib/python3.7/dist-packages (from keras-applications>=1.0.8->tensorflow==2.1.0) (3.1.0)\n",
            "Requirement already satisfied: google-auth<2,>=1.6.3 in /usr/local/lib/python3.7/dist-packages (from tensorboard<2.2.0,>=2.1.0->tensorflow==2.1.0) (1.35.0)\n",
            "Requirement already satisfied: markdown>=2.6.8 in /usr/local/lib/python3.7/dist-packages (from tensorboard<2.2.0,>=2.1.0->tensorflow==2.1.0) (3.4.1)\n",
            "Requirement already satisfied: setuptools>=41.0.0 in /usr/local/lib/python3.7/dist-packages (from tensorboard<2.2.0,>=2.1.0->tensorflow==2.1.0) (57.4.0)\n",
            "Requirement already satisfied: werkzeug>=0.11.15 in /usr/local/lib/python3.7/dist-packages (from tensorboard<2.2.0,>=2.1.0->tensorflow==2.1.0) (1.0.1)\n",
            "Requirement already satisfied: requests<3,>=2.21.0 in /usr/local/lib/python3.7/dist-packages (from tensorboard<2.2.0,>=2.1.0->tensorflow==2.1.0) (2.23.0)\n",
            "Requirement already satisfied: google-auth-oauthlib<0.5,>=0.4.1 in /usr/local/lib/python3.7/dist-packages (from tensorboard<2.2.0,>=2.1.0->tensorflow==2.1.0) (0.4.6)\n",
            "Requirement already satisfied: rsa<5,>=3.1.4 in /usr/local/lib/python3.7/dist-packages (from google-auth<2,>=1.6.3->tensorboard<2.2.0,>=2.1.0->tensorflow==2.1.0) (4.8)\n",
            "Requirement already satisfied: cachetools<5.0,>=2.0.0 in /usr/local/lib/python3.7/dist-packages (from google-auth<2,>=1.6.3->tensorboard<2.2.0,>=2.1.0->tensorflow==2.1.0) (4.2.4)\n",
            "Requirement already satisfied: pyasn1-modules>=0.2.1 in /usr/local/lib/python3.7/dist-packages (from google-auth<2,>=1.6.3->tensorboard<2.2.0,>=2.1.0->tensorflow==2.1.0) (0.2.8)\n",
            "Requirement already satisfied: requests-oauthlib>=0.7.0 in /usr/local/lib/python3.7/dist-packages (from google-auth-oauthlib<0.5,>=0.4.1->tensorboard<2.2.0,>=2.1.0->tensorflow==2.1.0) (1.3.1)\n",
            "Requirement already satisfied: importlib-metadata>=4.4 in /usr/local/lib/python3.7/dist-packages (from markdown>=2.6.8->tensorboard<2.2.0,>=2.1.0->tensorflow==2.1.0) (4.12.0)\n",
            "Requirement already satisfied: typing-extensions>=3.6.4 in /usr/local/lib/python3.7/dist-packages (from importlib-metadata>=4.4->markdown>=2.6.8->tensorboard<2.2.0,>=2.1.0->tensorflow==2.1.0) (4.1.1)\n",
            "Requirement already satisfied: zipp>=0.5 in /usr/local/lib/python3.7/dist-packages (from importlib-metadata>=4.4->markdown>=2.6.8->tensorboard<2.2.0,>=2.1.0->tensorflow==2.1.0) (3.8.1)\n",
            "Requirement already satisfied: pyasn1<0.5.0,>=0.4.6 in /usr/local/lib/python3.7/dist-packages (from pyasn1-modules>=0.2.1->google-auth<2,>=1.6.3->tensorboard<2.2.0,>=2.1.0->tensorflow==2.1.0) (0.4.8)\n",
            "Requirement already satisfied: idna<3,>=2.5 in /usr/local/lib/python3.7/dist-packages (from requests<3,>=2.21.0->tensorboard<2.2.0,>=2.1.0->tensorflow==2.1.0) (2.10)\n",
            "Requirement already satisfied: urllib3!=1.25.0,!=1.25.1,<1.26,>=1.21.1 in /usr/local/lib/python3.7/dist-packages (from requests<3,>=2.21.0->tensorboard<2.2.0,>=2.1.0->tensorflow==2.1.0) (1.24.3)\n",
            "Requirement already satisfied: chardet<4,>=3.0.2 in /usr/local/lib/python3.7/dist-packages (from requests<3,>=2.21.0->tensorboard<2.2.0,>=2.1.0->tensorflow==2.1.0) (3.0.4)\n",
            "Requirement already satisfied: certifi>=2017.4.17 in /usr/local/lib/python3.7/dist-packages (from requests<3,>=2.21.0->tensorboard<2.2.0,>=2.1.0->tensorflow==2.1.0) (2022.6.15)\n",
            "Requirement already satisfied: oauthlib>=3.0.0 in /usr/local/lib/python3.7/dist-packages (from requests-oauthlib>=0.7.0->google-auth-oauthlib<0.5,>=0.4.1->tensorboard<2.2.0,>=2.1.0->tensorflow==2.1.0) (3.2.0)\n",
            "Requirement already satisfied: cached-property in /usr/local/lib/python3.7/dist-packages (from h5py->keras-applications>=1.0.8->tensorflow==2.1.0) (1.5.2)\n"
          ]
        }
      ],
      "source": [
        "!pip install tensorflow==2.1.0"
      ]
    },
    {
      "cell_type": "code",
      "execution_count": null,
      "metadata": {
        "id": "IdidJvw6GP1C"
      },
      "outputs": [],
      "source": [
        "import os\n",
        "import sys\n",
        "import time\n",
        "import numpy as np\n",
        "\n",
        "import tensorflow as tf\n",
        "from matplotlib import pyplot as plt\n",
        "%matplotlib inline\n",
        "from IPython import display\n",
        "\n",
        "from google.colab import drive"
      ]
    },
    {
      "cell_type": "code",
      "execution_count": null,
      "metadata": {
        "colab": {
          "base_uri": "https://localhost:8080/"
        },
        "id": "cYBlcMIUGok0",
        "outputId": "c7286708-06f2-4cef-cea1-eeba7ab9415e"
      },
      "outputs": [
        {
          "output_type": "stream",
          "name": "stdout",
          "text": [
            "2.1.0\n"
          ]
        }
      ],
      "source": [
        "print(tf.__version__)"
      ]
    },
    {
      "cell_type": "markdown",
      "metadata": {
        "id": "KtC2CporEKXE"
      },
      "source": [
        "## List devices"
      ]
    },
    {
      "cell_type": "code",
      "execution_count": null,
      "metadata": {
        "colab": {
          "base_uri": "https://localhost:8080/"
        },
        "id": "ZhPpQ2xMD-XT",
        "outputId": "00d83bb4-4f3d-4bbf-f2bc-132198b1aca7"
      },
      "outputs": [
        {
          "output_type": "execute_result",
          "data": {
            "text/plain": [
              "[name: \"/device:CPU:0\"\n",
              " device_type: \"CPU\"\n",
              " memory_limit: 268435456\n",
              " locality {\n",
              " }\n",
              " incarnation: 7966188195518369040, name: \"/device:XLA_CPU:0\"\n",
              " device_type: \"XLA_CPU\"\n",
              " memory_limit: 17179869184\n",
              " locality {\n",
              " }\n",
              " incarnation: 13334990298518849823\n",
              " physical_device_desc: \"device: XLA_CPU device\", name: \"/device:XLA_GPU:0\"\n",
              " device_type: \"XLA_GPU\"\n",
              " memory_limit: 17179869184\n",
              " locality {\n",
              " }\n",
              " incarnation: 4264381963628412916\n",
              " physical_device_desc: \"device: XLA_GPU device\", name: \"/device:GPU:0\"\n",
              " device_type: \"GPU\"\n",
              " memory_limit: 15791672525\n",
              " locality {\n",
              "   bus_id: 1\n",
              "   links {\n",
              "   }\n",
              " }\n",
              " incarnation: 17892289304206460466\n",
              " physical_device_desc: \"device: 0, name: Tesla V100-SXM2-16GB, pci bus id: 0000:00:04.0, compute capability: 7.0\"]"
            ]
          },
          "metadata": {},
          "execution_count": 58
        }
      ],
      "source": [
        "from tensorflow.python.client import device_lib\n",
        "device_lib.list_local_devices()"
      ]
    },
    {
      "cell_type": "markdown",
      "metadata": {
        "id": "1qrUhx1LmDEk"
      },
      "source": [
        "## Load the dataset"
      ]
    },
    {
      "cell_type": "code",
      "execution_count": null,
      "metadata": {
        "colab": {
          "base_uri": "https://localhost:8080/",
          "height": 217
        },
        "id": "0Y8b34GCMPdM",
        "outputId": "853b3619-7502-41ea-baa0-c8ce94d1fa08"
      },
      "outputs": [
        {
          "output_type": "stream",
          "name": "stdout",
          "text": [
            "Drive already mounted at /content/drive; to attempt to forcibly remount, call drive.mount(\"/content/drive\", force_remount=True).\n"
          ]
        },
        {
          "output_type": "error",
          "ename": "FileNotFoundError",
          "evalue": "ignored",
          "traceback": [
            "\u001b[0;31m---------------------------------------------------------------------------\u001b[0m",
            "\u001b[0;31mFileNotFoundError\u001b[0m                         Traceback (most recent call last)",
            "\u001b[0;32m<ipython-input-59-db2c82e9f5b4>\u001b[0m in \u001b[0;36m<module>\u001b[0;34m()\u001b[0m\n\u001b[1;32m     12\u001b[0m \u001b[0mcheckpoint_dir\u001b[0m \u001b[0;34m=\u001b[0m \u001b[0mos\u001b[0m\u001b[0;34m.\u001b[0m\u001b[0mpath\u001b[0m\u001b[0;34m.\u001b[0m\u001b[0mjoin\u001b[0m\u001b[0;34m(\u001b[0m\u001b[0mos\u001b[0m\u001b[0;34m.\u001b[0m\u001b[0mgetcwd\u001b[0m\u001b[0;34m(\u001b[0m\u001b[0;34m)\u001b[0m\u001b[0;34m,\u001b[0m\u001b[0;34m'training_checkpoints'\u001b[0m\u001b[0;34m)\u001b[0m\u001b[0;34m\u001b[0m\u001b[0;34m\u001b[0m\u001b[0m\n\u001b[1;32m     13\u001b[0m \u001b[0;31m# os.chdir(path) # change the current working directory to the given path\u001b[0m\u001b[0;34m\u001b[0m\u001b[0;34m\u001b[0m\u001b[0;34m\u001b[0m\u001b[0m\n\u001b[0;32m---> 14\u001b[0;31m \u001b[0mos\u001b[0m\u001b[0;34m.\u001b[0m\u001b[0mlistdir\u001b[0m\u001b[0;34m(\u001b[0m\u001b[0mpath\u001b[0m\u001b[0;34m)\u001b[0m \u001b[0;31m# list all the entries in the directory given by path\u001b[0m\u001b[0;34m\u001b[0m\u001b[0;34m\u001b[0m\u001b[0m\n\u001b[0m",
            "\u001b[0;31mFileNotFoundError\u001b[0m: [Errno 2] No such file or directory: '/content/drive/My Drive/phd_thesis_data/deep_city/pix2pix/compiled/nbi/ebird_h_w'"
          ]
        }
      ],
      "source": [
        "# Place the dataset in your Google Drive \n",
        "drive.mount(\"/content/drive\")\n",
        "\n",
        "######## set dataset path ########-------------------------------------------------------------------------\n",
        "# folder_name = 'old_hwang/dataset' #@param{type:\"string\"}\n",
        "base_dir = \"/content/drive/My Drive/\"\n",
        "# path = \"/content/drive/My Drive/\" + folder_name \n",
        "# path = \"/content/drive/My Drive/ml_test/0.jpg\n",
        "\n",
        "folder_name = 'phd_thesis_data/deep_city/pix2pix/compiled/ebird/ebird_h_w' #@param{type:\"string\"}\n",
        "path = os.path.join(base_dir, folder_name) \n",
        "checkpoint_dir = os.path.join(os.getcwd(),'training_checkpoints')\n",
        "# os.chdir(path) # change the current working directory to the given path\n",
        "os.listdir(path) # list all the entries in the directory given by path"
      ]
    },
    {
      "cell_type": "code",
      "execution_count": null,
      "metadata": {
        "id": "MY8t_8h5TqNs"
      },
      "outputs": [],
      "source": [
        "BUFFER_SIZE = 400\n",
        "BATCH_SIZE = 1\n",
        "IMG_WIDTH = 256\n",
        "IMG_HEIGHT = 256\n",
        "print(path)\n",
        "\n",
        "def load(image_file):\n",
        "  image = tf.io.read_file(image_file)\n",
        "  image = tf.image.decode_jpeg(image)\n",
        "\n",
        "  w = tf.shape(image)[1]\n",
        "\n",
        "  w = w // 2\n",
        "  real_image = image[:, w:, :] # right image\n",
        "  input_image = image[:, :w, :] # left image\n",
        "\n",
        "  input_image = tf.cast(input_image, tf.float32)\n",
        "  real_image = tf.cast(real_image, tf.float32)\n",
        "\n",
        "  return input_image, real_image"
      ]
    },
    {
      "cell_type": "markdown",
      "metadata": {
        "id": "TWhgRJSrV5nB"
      },
      "source": [
        "## Plot input-target sample "
      ]
    },
    {
      "cell_type": "code",
      "execution_count": null,
      "metadata": {
        "id": "MUkorPcIULUF"
      },
      "outputs": [],
      "source": [
        "file_name = 16 #@param {type:\"slider\", min:0, max:29, step:1} \n",
        "file_format = '.jpg' #@param [\".jpg\", \".png\", \".bmp\"] {allow-input: true}\n",
        "inp, re = load(path + '/train/' + str(file_name) + file_format) ######## paste the path to one any image within the training set ########---------------------------------------------------------------\n",
        "\n",
        "# casting to int for matplotlib to show the image\n",
        "plt.figure()\n",
        "#plt.axis('off')\n",
        "plt.imshow(inp/255.0)\n",
        "\n",
        "plt.figure()\n",
        "#plt.axis('off')\n",
        "plt.imshow(re/255.0)"
      ]
    },
    {
      "cell_type": "markdown",
      "metadata": {
        "id": "E4HCLoS8W9nb"
      },
      "source": [
        "## Data preprocessing & augmentation"
      ]
    },
    {
      "cell_type": "code",
      "execution_count": null,
      "metadata": {
        "id": "wSecowTIUhor"
      },
      "outputs": [],
      "source": [
        "def resize(input_image, real_image, height, width):\n",
        "  input_image = tf.image.resize(input_image, [height, width],\n",
        "                                method=tf.image.ResizeMethod.NEAREST_NEIGHBOR)\n",
        "  real_image = tf.image.resize(real_image, [height, width],\n",
        "                               method=tf.image.ResizeMethod.NEAREST_NEIGHBOR)\n",
        "\n",
        "  return input_image, real_image\n",
        "\n",
        "def random_crop(input_image, real_image):\n",
        "  stacked_image = tf.stack([input_image, real_image], axis=0)\n",
        "  cropped_image = tf.image.random_crop(\n",
        "      stacked_image, size=[2, IMG_HEIGHT, IMG_WIDTH, 3])\n",
        "\n",
        "  return cropped_image[0], cropped_image[1]\n",
        "\n",
        "# normalising the images to [-1, 1]\n",
        "def normalize(input_image, real_image):\n",
        "  input_image = (input_image / 127.5) - 1\n",
        "  real_image = (real_image / 127.5) - 1\n",
        "\n",
        "  return input_image, real_image\n",
        "\n",
        "@tf.function()\n",
        "def random_jitter(input_image, real_image):\n",
        "  # resising to 286 x 286 x 3\n",
        "  input_image, real_image = resize(input_image, real_image, 286, 286)\n",
        "\n",
        "  # randomly cropping to 256 x 256 x 3\n",
        "  input_image, real_image = random_crop(input_image, real_image)\n",
        "\n",
        "  if tf.random.uniform(()) > 0.5:\n",
        "    # random mirroring\n",
        "    input_image = tf.image.flip_left_right(input_image)\n",
        "    real_image = tf.image.flip_left_right(real_image)\n",
        "\n",
        "  return input_image, real_image"
      ]
    },
    {
      "cell_type": "code",
      "execution_count": null,
      "metadata": {
        "id": "jfaM_fKVUqFN"
      },
      "outputs": [],
      "source": [
        "# inspect some of the preprocessed output\n",
        "plt.figure(figsize=(6, 6))\n",
        "for i in range(4):\n",
        "  rj_inp, rj_re = random_jitter(inp, re)\n",
        "  plt.subplot(2, 2, i+1)\n",
        "  plt.imshow(rj_inp/255.0)\n",
        "  plt.axis('off')\n",
        "plt.show()"
      ]
    },
    {
      "cell_type": "code",
      "execution_count": null,
      "metadata": {
        "id": "362-EgYIU1I5"
      },
      "outputs": [],
      "source": [
        "def load_image_train(image_file):\n",
        "  input_image, real_image = load(image_file)\n",
        "  input_image, real_image = random_jitter(input_image, real_image)\n",
        "  input_image, real_image = normalize(input_image, real_image)\n",
        "\n",
        "  return input_image, real_image\n",
        "\n",
        "def load_image_test(image_file):\n",
        "  input_image, real_image = load(image_file)\n",
        "  input_image, real_image = resize(input_image, real_image,\n",
        "                                   IMG_HEIGHT, IMG_WIDTH)\n",
        "  input_image, real_image = normalize(input_image, real_image)\n",
        "\n",
        "  return input_image, real_image\n",
        "\n",
        "def load_image_val(image_file):\n",
        "  input_image, real_image = load(image_file)\n",
        "  input_image, real_image = resize(input_image, real_image,\n",
        "                                   IMG_HEIGHT, IMG_WIDTH)\n",
        "  input_image, real_image = normalize(input_image, real_image)\n",
        "\n",
        "  return input_image, real_image"
      ]
    },
    {
      "cell_type": "markdown",
      "metadata": {
        "id": "tMoUbyxcoU1U"
      },
      "source": [
        "## Input pipeline"
      ]
    },
    {
      "cell_type": "code",
      "execution_count": null,
      "metadata": {
        "id": "xq92g4rFU5UO"
      },
      "outputs": [],
      "source": [
        "train_dataset = tf.data.Dataset.list_files(path+'/train/*.jpg')\n",
        "# train_dataset = train_dataset.map(load_image_train, num_parallel_calls=tf.data.AUTOTUNE)\n",
        "train_dataset = train_dataset.map(load_image_train, num_parallel_calls=tf.data.experimental.AUTOTUNE)\n",
        "train_dataset = train_dataset.shuffle(BUFFER_SIZE)\n",
        "train_dataset = train_dataset.batch(BATCH_SIZE)"
      ]
    },
    {
      "cell_type": "code",
      "execution_count": null,
      "metadata": {
        "id": "4fM45x1qVCQJ"
      },
      "outputs": [],
      "source": [
        "test_dataset = tf.data.Dataset.list_files(path+'/test/*.jpg')\n",
        "test_dataset = test_dataset.map(load_image_test)\n",
        "test_dataset = test_dataset.batch(BATCH_SIZE)"
      ]
    },
    {
      "cell_type": "code",
      "execution_count": null,
      "metadata": {
        "id": "FgmUECcc5tab"
      },
      "outputs": [],
      "source": [
        "val_dataset = tf.data.Dataset.list_files(path+'/val/*.jpg')\n",
        "val_dataset = val_dataset.map(load_image_val)\n",
        "val_dataset = val_dataset.batch(BATCH_SIZE)"
      ]
    },
    {
      "cell_type": "markdown",
      "metadata": {
        "id": "7rqPd8jLoja4"
      },
      "source": [
        "## Build generator (U-Net)"
      ]
    },
    {
      "cell_type": "code",
      "execution_count": null,
      "metadata": {
        "id": "Z91XIJ2FVQoH"
      },
      "outputs": [],
      "source": [
        "OUTPUT_CHANNELS = 3\n",
        "\n",
        "def downsample(filters, size, apply_batchnorm=True):\n",
        "  initializer = tf.random_normal_initializer(0., 0.02)\n",
        "\n",
        "  result = tf.keras.Sequential()\n",
        "  result.add(\n",
        "      tf.keras.layers.Conv2D(filters, size, strides=2, padding='same',\n",
        "                             kernel_initializer=initializer, use_bias=False))\n",
        "\n",
        "  if apply_batchnorm:\n",
        "    result.add(tf.keras.layers.BatchNormalization())\n",
        "\n",
        "  result.add(tf.keras.layers.LeakyReLU())\n",
        "\n",
        "  return result\n",
        "\n",
        "down_model = downsample(3, 4)\n",
        "down_result = down_model(tf.expand_dims(inp, 0))\n",
        "print (down_result.shape)\n",
        "\n",
        "def upsample(filters, size, apply_dropout=False):\n",
        "  initializer = tf.random_normal_initializer(0., 0.02)\n",
        "\n",
        "  result = tf.keras.Sequential()\n",
        "  result.add(\n",
        "    tf.keras.layers.Conv2DTranspose(filters, size, strides=2,\n",
        "                                    padding='same',\n",
        "                                    kernel_initializer=initializer,\n",
        "                                    use_bias=False))\n",
        "\n",
        "  result.add(tf.keras.layers.BatchNormalization())\n",
        "\n",
        "  if apply_dropout:\n",
        "      result.add(tf.keras.layers.Dropout(0.5))\n",
        "\n",
        "  result.add(tf.keras.layers.ReLU())\n",
        "\n",
        "  return result\n",
        "\n",
        "up_model = upsample(3, 4)\n",
        "up_result = up_model(down_result)\n",
        "print (up_result.shape)"
      ]
    },
    {
      "cell_type": "code",
      "execution_count": null,
      "metadata": {
        "id": "btsOjbiRVmnb"
      },
      "outputs": [],
      "source": [
        "def Generator():\n",
        "  inputs = tf.keras.layers.Input(shape=[256,256,3])\n",
        "\n",
        "  down_stack = [\n",
        "    downsample(64, 4, apply_batchnorm=False), # (bs, 128, 128, 64)\n",
        "    downsample(128, 4), # (bs, 64, 64, 128)\n",
        "    downsample(256, 4), # (bs, 32, 32, 256)\n",
        "    downsample(512, 4), # (bs, 16, 16, 512)\n",
        "    downsample(512, 4), # (bs, 8, 8, 512)\n",
        "    downsample(512, 4), # (bs, 4, 4, 512)\n",
        "    downsample(512, 4), # (bs, 2, 2, 512)\n",
        "    downsample(512, 4), # (bs, 1, 1, 512)\n",
        "  ]\n",
        "\n",
        "  up_stack = [\n",
        "    upsample(512, 4, apply_dropout=True), # (bs, 2, 2, 1024)\n",
        "    upsample(512, 4, apply_dropout=True), # (bs, 4, 4, 1024)\n",
        "    upsample(512, 4, apply_dropout=True), # (bs, 8, 8, 1024)\n",
        "    upsample(512, 4), # (bs, 16, 16, 1024)\n",
        "    upsample(256, 4), # (bs, 32, 32, 512)\n",
        "    upsample(128, 4), # (bs, 64, 64, 256)\n",
        "    upsample(64, 4), # (bs, 128, 128, 128)\n",
        "  ]\n",
        "\n",
        "  initializer = tf.random_normal_initializer(0., 0.02)\n",
        "  last = tf.keras.layers.Conv2DTranspose(OUTPUT_CHANNELS, 4,\n",
        "                                         strides=2,\n",
        "                                         padding='same',\n",
        "                                         kernel_initializer=initializer,\n",
        "                                         activation='tanh') # (bs, 256, 256, 3)\n",
        "\n",
        "  x = inputs\n",
        "\n",
        "  # Downsampling through the model\n",
        "  skips = []\n",
        "  for down in down_stack:\n",
        "    x = down(x)\n",
        "    skips.append(x)\n",
        "\n",
        "  skips = reversed(skips[:-1])\n",
        "\n",
        "  # Upsampling and establishing the skip connections\n",
        "  for up, skip in zip(up_stack, skips):\n",
        "    x = up(x)\n",
        "    x = tf.keras.layers.Concatenate()([x, skip])\n",
        "\n",
        "  x = last(x)\n",
        "\n",
        "  return tf.keras.Model(inputs=inputs, outputs=x)"
      ]
    },
    {
      "cell_type": "code",
      "execution_count": null,
      "metadata": {
        "id": "w5hA_NjqWMFO"
      },
      "outputs": [],
      "source": [
        "generator = Generator()\n",
        "generator.summary()\n",
        "tf.keras.utils.plot_model(generator, show_shapes=True, dpi=64)"
      ]
    },
    {
      "cell_type": "code",
      "execution_count": null,
      "metadata": {
        "id": "LlaXgdi4WXTT"
      },
      "outputs": [],
      "source": [
        "gen_output = generator(inp[tf.newaxis,...], training=False)\n",
        "plt.imshow(gen_output[0,...])"
      ]
    },
    {
      "cell_type": "markdown",
      "metadata": {
        "id": "h6MfwwZGlQYo"
      },
      "source": [
        "## Build discriminator"
      ]
    },
    {
      "cell_type": "code",
      "execution_count": null,
      "metadata": {
        "id": "i4woOuwvWd85"
      },
      "outputs": [],
      "source": [
        "LAMBDA = 100\n",
        "loss_object = tf.keras.losses.BinaryCrossentropy(from_logits=True)\n",
        "\n",
        "def generator_loss(disc_generated_output, gen_output, target):\n",
        "  gan_loss = loss_object(tf.ones_like(disc_generated_output), disc_generated_output)\n",
        "\n",
        "  # mean absolute error\n",
        "  l1_loss = tf.reduce_mean(tf.abs(target - gen_output))\n",
        "\n",
        "  total_gen_loss = gan_loss + (LAMBDA * l1_loss)\n",
        "\n",
        "  return total_gen_loss, gan_loss, l1_loss\n",
        "\n",
        "def Discriminator():\n",
        "  initializer = tf.random_normal_initializer(0., 0.02)\n",
        "\n",
        "  inp = tf.keras.layers.Input(shape=[256, 256, 3], name='input_image')\n",
        "  tar = tf.keras.layers.Input(shape=[256, 256, 3], name='target_image')\n",
        "\n",
        "  x = tf.keras.layers.concatenate([inp, tar]) # (bs, 256, 256, channels*2)\n",
        "\n",
        "  down1 = downsample(64, 4, False)(x) # (bs, 128, 128, 64)\n",
        "  down2 = downsample(128, 4)(down1) # (bs, 64, 64, 128)\n",
        "  down3 = downsample(256, 4)(down2) # (bs, 32, 32, 256)\n",
        "\n",
        "  zero_pad1 = tf.keras.layers.ZeroPadding2D()(down3) # (bs, 34, 34, 256)\n",
        "  conv = tf.keras.layers.Conv2D(512, 4, strides=1,\n",
        "                                kernel_initializer=initializer,\n",
        "                                use_bias=False)(zero_pad1) # (bs, 31, 31, 512)\n",
        "\n",
        "  batchnorm1 = tf.keras.layers.BatchNormalization()(conv)\n",
        "\n",
        "  leaky_relu = tf.keras.layers.LeakyReLU()(batchnorm1)\n",
        "\n",
        "  zero_pad2 = tf.keras.layers.ZeroPadding2D()(leaky_relu) # (bs, 33, 33, 512)\n",
        "\n",
        "  last = tf.keras.layers.Conv2D(1, 4, strides=1, kernel_initializer=initializer)(zero_pad2) # (bs, 30, 30, 1)\n",
        "\n",
        "  return tf.keras.Model(inputs=[inp, tar], outputs=last)\n",
        "\n",
        "discriminator = Discriminator()\n",
        "tf.keras.utils.plot_model(discriminator, show_shapes=True, dpi=64)\n",
        "\n",
        "disc_out = discriminator([inp[tf.newaxis,...], gen_output], training=False)\n",
        "plt.imshow(disc_out[0,...,-1], vmin=-20, vmax=20, cmap='RdBu_r')\n",
        "plt.colorbar()\n",
        "\n"
      ]
    },
    {
      "cell_type": "markdown",
      "metadata": {
        "id": "42yDd7HBo8W7"
      },
      "source": [
        "## Define loss functions and optimiser"
      ]
    },
    {
      "cell_type": "code",
      "execution_count": null,
      "metadata": {
        "id": "iXDFKk7eWtFO"
      },
      "outputs": [],
      "source": [
        "def discriminator_loss(disc_real_output, disc_generated_output):\n",
        "  real_loss = loss_object(tf.ones_like(disc_real_output), disc_real_output)\n",
        "\n",
        "  generated_loss = loss_object(tf.zeros_like(disc_generated_output), disc_generated_output)\n",
        "\n",
        "  total_disc_loss = real_loss + generated_loss\n",
        "\n",
        "  return total_disc_loss"
      ]
    },
    {
      "cell_type": "code",
      "execution_count": null,
      "metadata": {
        "id": "5MjgvtSMWyBc"
      },
      "outputs": [],
      "source": [
        "generator_optimizer = tf.keras.optimizers.Adam(2e-4, beta_1=0.5)\n",
        "discriminator_optimizer = tf.keras.optimizers.Adam(2e-4, beta_1=0.5)"
      ]
    },
    {
      "cell_type": "code",
      "execution_count": null,
      "metadata": {
        "id": "s8nen4zqW1uR"
      },
      "outputs": [],
      "source": [
        "# set checkpoints\n",
        "checkpoint_dir = path + '/training_checkpoints/'\n",
        "checkpoint_prefix = os.path.join(checkpoint_dir, \"ckpt\")\n",
        "checkpoint = tf.train.Checkpoint(generator_optimizer=generator_optimizer,\n",
        "                                 discriminator_optimizer=discriminator_optimizer,\n",
        "                                 generator=generator,\n",
        "                                 discriminator=discriminator)"
      ]
    },
    {
      "cell_type": "markdown",
      "metadata": {
        "id": "0UwHj76QpPf8"
      },
      "source": [
        "## Generate images"
      ]
    },
    {
      "cell_type": "code",
      "execution_count": null,
      "metadata": {
        "id": "imm8chXYXJcf"
      },
      "outputs": [],
      "source": [
        "def generate_images(model, test_input, tar):\n",
        "  prediction = model(test_input, training=True)\n",
        "  plt.figure(figsize=(15,15))\n",
        "\n",
        "  display_list = [test_input[0], tar[0], prediction[0]]\n",
        "\n",
        "  ######## Edit image titles (modify as needed)########------------------------\n",
        "  title_domain_A = 'Connectivity (Humans)' #@param {type:\"string\"}\n",
        "  title_domain_B = 'Connectivity (Wildlife)' #@param {type:\"string\"}\n",
        "  title_prediction = 'Predicted Connectivity (Wildlife)' #@param {type:\"string\"}\n",
        "  title = [title_domain_A, title_domain_B, title_prediction] \n",
        "\n",
        "  for i in range(3):\n",
        "    plt.subplot(1, 3, i+1)\n",
        "    plt.title(title[i])\n",
        "    # getting the pixel values between [0, 1] to plot it.\n",
        "    plt.imshow(display_list[i] * 0.5 + 0.5)\n",
        "    plt.axis('off')\n",
        "  plt.savefig('generated_image.png')  \n",
        "  plt.show()  \n",
        "\n",
        "for example_input, example_target in test_dataset.take(1):\n",
        "  generate_images(generator, example_input, example_target)  "
      ]
    },
    {
      "cell_type": "markdown",
      "metadata": {
        "id": "o7CLU0y6po6u"
      },
      "source": [
        "## Training"
      ]
    },
    {
      "cell_type": "code",
      "execution_count": null,
      "metadata": {
        "id": "puJ64uEipki4"
      },
      "outputs": [],
      "source": [
        "EPOCHS = 1000 #@param {type:\"slider\", min:1, max:1000, step:1} \n",
        "######## set epochs number ########--------------------------------------------\n",
        "\n",
        "import datetime\n",
        "log_dir=path + \"/logs/\"\n",
        "\n",
        "summary_writer = tf.summary.create_file_writer(\n",
        "  log_dir + \"fit/\" + datetime.datetime.now().strftime(\"%Y%m%d-%H%M%S\"))"
      ]
    },
    {
      "cell_type": "code",
      "execution_count": null,
      "metadata": {
        "id": "q1ZSaTjeXrhH"
      },
      "outputs": [],
      "source": [
        "### @tf.function\n",
        "def train_step(input_image, target, epoch):\n",
        "  with tf.GradientTape() as gen_tape, tf.GradientTape() as disc_tape:\n",
        "    gen_output = generator(input_image, training=True)\n",
        "\n",
        "    disc_real_output = discriminator([input_image, target], training=True)\n",
        "    disc_generated_output = discriminator([input_image, gen_output], training=True)\n",
        "\n",
        "    gen_total_loss, gen_gan_loss, gen_l1_loss = generator_loss(disc_generated_output, gen_output, target)\n",
        "    disc_loss = discriminator_loss(disc_real_output, disc_generated_output)\n",
        "\n",
        "  generator_gradients = gen_tape.gradient(gen_total_loss, generator.trainable_variables)\n",
        "  discriminator_gradients = disc_tape.gradient(disc_loss, discriminator.trainable_variables)\n",
        "\n",
        "  generator_optimizer.apply_gradients(zip(generator_gradients, generator.trainable_variables))\n",
        "  discriminator_optimizer.apply_gradients(zip(discriminator_gradients, discriminator.trainable_variables))\n",
        "\n",
        "  #   with summary_writer.as_default():\n",
        "  #     tf.summary.scalar('gen_total_loss', gen_total_loss, step=epoch)\n",
        "  #     tf.summary.scalar('gen_gan_loss', gen_gan_loss, step=epoch)\n",
        "  #     tf.summary.scalar('gen_l1_loss', gen_l1_loss, step=epoch)\n",
        "  #     tf.summary.scalar('disc_loss', disc_loss, step=epoch)\n",
        "\n",
        "  return gen_total_loss.numpy(), gen_gan_loss.numpy(), gen_l1_loss.numpy(), disc_loss.numpy()"
      ]
    },
    {
      "cell_type": "code",
      "execution_count": null,
      "metadata": {
        "id": "SiVI_FgnY0Bd"
      },
      "outputs": [],
      "source": [
        "def fit(train_ds, epochs, test_ds):\n",
        "    gen_total_losses, gen_gan_losses, gen_l1_losses, disc_losses = [], [], [], []\n",
        "    for epoch in range(epochs):\n",
        "      gen_total_loss, gen_gan_loss, gen_l1_loss, disc_loss = 0, 0, 0, 0\n",
        "\n",
        "      start = time.time()\n",
        "\n",
        "      #         display.clear_output(wait=True)\n",
        "\n",
        "      #for example_input, example_target in test_ds.take(1):\n",
        "        #generate_images(generator, example_input, example_target) #--------------------\n",
        "\n",
        "      #         Train\n",
        "      i = 1\n",
        "      for n, (input_image, target) in train_ds.enumerate():\n",
        "\n",
        "        print('.', end='')\n",
        "        if (n + 1) % 100 == 0:\n",
        "          print()\n",
        "        gen_total_loss_n, gen_gan_loss_n, gen_l1_loss_n, disc_loss_n = train_step(input_image, target, epoch)\n",
        "        gen_total_loss += gen_total_loss_n\n",
        "        gen_gan_loss += gen_gan_loss_n\n",
        "        gen_l1_loss += gen_l1_loss_n\n",
        "        disc_loss += disc_loss_n\n",
        "        i += 1\n",
        "\n",
        "      gen_total_loss /= i\n",
        "      gen_gan_loss /= i\n",
        "      gen_l1_loss /= i\n",
        "      disc_loss /= i\n",
        "      gen_total_losses.append(gen_total_loss)\n",
        "      gen_gan_losses.append(gen_gan_loss)\n",
        "      gen_l1_losses.append(gen_l1_loss)\n",
        "      disc_losses.append(disc_loss)\n",
        "\n",
        "      print('epoch {0}: gen_total_loss={1:4f}, gen_gan_loss={2:4f}, gen_l1_loss={3:4f}, disc_loss={4:4f}'.format(\n",
        "        epoch, gen_total_loss, gen_gan_loss, gen_l1_loss, disc_loss))\n",
        "\n",
        "    # saving (checkpoint) the model every 20 epochs ------------------------------------------------------------------------------------\n",
        "    saving_frequency = 100  # @param {type:\"slider\", min:1, max:100, step:1}\n",
        "    if (epoch + 1) % saving_frequency == 0:\n",
        "      checkpoint.save(file_prefix=checkpoint_prefix)\n",
        "\n",
        "    print('Time taken for epoch {} is {} sec\\n'.format(epoch + 1, time.time() - start))\n",
        "    return gen_total_losses, gen_gan_losses, gen_l1_losses, disc_losses"
      ]
    },
    {
      "cell_type": "code",
      "execution_count": null,
      "metadata": {
        "id": "GzIzdJbsZkht"
      },
      "outputs": [],
      "source": [
        "# !pip install -U tensorboard"
      ]
    },
    {
      "cell_type": "code",
      "execution_count": null,
      "metadata": {
        "id": "Lj-Smo4OEruz"
      },
      "outputs": [],
      "source": [
        "# display.IFrame(\n",
        "#     src=\"https://tensorboard.dev/experiment/lZ0C6FONROaUMfjYkVyJqw\",\n",
        "#     width=\"100%\",\n",
        "#     height=\"1000px\")"
      ]
    },
    {
      "cell_type": "code",
      "execution_count": null,
      "metadata": {
        "id": "b7D7TPiBYGSD"
      },
      "outputs": [],
      "source": [
        "#docs_infra: no_execute\n",
        "# %load_ext tensorboard\n",
        "# %tensorboard --logdir {log_dir}\n",
        "\n",
        "gen_total_losses, gen_gan_losses, gen_l1_losses, disc_losses = fit(train_dataset, EPOCHS, test_dataset)"
      ]
    },
    {
      "cell_type": "code",
      "execution_count": null,
      "metadata": {
        "id": "z3ci4bd6Ywz2"
      },
      "outputs": [],
      "source": [
        "# !tensorboard dev upload --logdir  {log_dir}"
      ]
    },
    {
      "cell_type": "markdown",
      "metadata": {
        "id": "pkLGYR6VZ1Lt"
      },
      "source": [
        "Plot losses"
      ]
    },
    {
      "cell_type": "code",
      "execution_count": null,
      "metadata": {
        "id": "t5e1-r01Z0yb"
      },
      "outputs": [],
      "source": [
        "import plotly\n",
        "import plotly.express as px\n",
        "import pandas as pd\n",
        "def draw_loss_interact(loss_lst, loss_type):\n",
        "    df = pd.DataFrame(np.array([range(1, EPOCHS+1), loss_lst]).T, columns = [\"x\", \"y\"])  # choose column\n",
        "\n",
        "    fig = px.line(df, x=\"x\", y=\"y\", labels={'x':'Epochs', 'y':'Loss'}, title=loss_type)\n",
        "    fig.show()"
      ]
    },
    {
      "cell_type": "code",
      "execution_count": null,
      "metadata": {
        "id": "ivBAuYURZ7S5"
      },
      "outputs": [],
      "source": [
        "draw_loss_interact(loss_lst=gen_total_losses, loss_type='Generator total loss')\n",
        "draw_loss_interact(loss_lst=gen_gan_losses, loss_type='Generator GAN loss')\n",
        "draw_loss_interact(loss_lst=gen_l1_losses, loss_type='Generator L1 loss')\n",
        "draw_loss_interact(loss_lst=disc_losses, loss_type='Discriminator loss')"
      ]
    },
    {
      "cell_type": "markdown",
      "metadata": {
        "id": "ofb9kl_Z5J3i"
      },
      "source": [
        "## Restore the checkpoint and draw feature map"
      ]
    },
    {
      "cell_type": "code",
      "execution_count": null,
      "metadata": {
        "id": "jrMza5sj5d3A"
      },
      "outputs": [],
      "source": [
        "from tensorflow.keras.models import Model\n",
        "\n",
        "# list all saved checkpoint models\n",
        "checkpoint_models_name = [f for f in os.listdir(checkpoint_dir) if os.path.isfile(os.path.join(checkpoint_dir, f)) & ('.index' in f)]\n",
        "print('checkpoint models name:', checkpoint_models_name)\n",
        "\n",
        "# restore particular checkpoint model\n",
        "checkpoint.restore(os.path.join(checkpoint_dir,checkpoint_models_name[0]))"
      ]
    },
    {
      "cell_type": "code",
      "execution_count": null,
      "metadata": {
        "id": "TTtMPuqdaX_F"
      },
      "outputs": [],
      "source": [
        "def generate_feature_map(model_type, num_layer, test_input, tar, num_fig_grid_col=16):\n",
        "    \n",
        "    if model_type == 'generator':\n",
        "        # create a new model based on particular layer\n",
        "        layer_model = Model(inputs=checkpoint.generator.inputs, outputs=checkpoint.generator.layers[num_layer].output)\n",
        "        \n",
        "        # prediction via layer_model and checkpoit's weights\n",
        "        prediction = layer_model(test_input)\n",
        "        \n",
        "    elif model_type == 'discriminator':\n",
        "        # create a new model based on particular layer\n",
        "        layer_model = Model(inputs=checkpoint.discriminator.inputs, outputs=checkpoint.discriminator.layers[num_layer].output)\n",
        "        \n",
        "        # prediction via layer_model and checkpoit's weights\n",
        "        prediction = layer_model([test_input, tar])\n",
        "        \n",
        "    else:\n",
        "        raise ValueError('type error, should be generator or discriminator')    \n",
        "    \n",
        "    # check size of prediction\n",
        "    pred_size = prediction.shape[-1]\n",
        "    \n",
        "    # normalize prediction\n",
        "    prediction = (prediction -np.nanmin(prediction)) / (np.nanmax(prediction) - np.nanmin(prediction)) *2 -1\n",
        "\n",
        "    # print(prediction)\n",
        "    num_fig_grid_row = int(np.ceil(pred_size/num_fig_grid_col))  \n",
        "\n",
        "    # fig.set_size_inches(30,30)    \n",
        "    print('{0} with layer {1}:'.format(model_type,num_layer))\n",
        "\n",
        "    # draw input image\n",
        "    plt.figure(figsize=(15/num_fig_grid_col, 15/num_fig_grid_col))\n",
        "    plt.axis('off')\n",
        "    plt.imshow(test_input[0]*0.5+0.5)\n",
        "    plt.title('Input image', fontsize=8)\n",
        "\n",
        "    fig, ax = plt.subplots(num_fig_grid_row, num_fig_grid_col)  # figure grid size = (num_fig_grid_row, num_fig_grid_col)\n",
        "    fig.set_size_inches(30, 30/num_fig_grid_col*num_fig_grid_row)\n",
        "\n",
        "    axis_toggle = 'on' #@param ['on', 'off'] {type:'string'}\n",
        "    tick_lable_size = 5 #@param {type:'slider', min:0, max:12, step:0.5}\n",
        "\n",
        "    for i in range(num_fig_grid_row):\n",
        "        for j in range(num_fig_grid_col):  \n",
        "            if num_fig_grid_row == 1:\n",
        "                if i*num_fig_grid_col+j-1 < pred_size:\n",
        "                    ax[j].imshow(prediction[0, :, :, i*num_fig_grid_col+j-1], cmap='gray')\n",
        "                    # ax[j].set_title('Prediction with layer {} and kernel {}'.format(num_layer, i*num_fig_grid_col+j), fontsize=8)\n",
        "                    plt.rc('xtick',labelsize=tick_lable_size)\n",
        "                    plt.rc('ytick',labelsize=tick_lable_size)\n",
        "                    ax[j].axis(axis_toggle)\n",
        "                else: \n",
        "                    plt.rc('xtick',labelsize=tick_lable_size)\n",
        "                    plt.rc('ytick',labelsize=tick_lable_size)\n",
        "                    ax[j].axis(axis_toggle)\n",
        "                \n",
        "            else: \n",
        "                if i*num_fig_grid_col+j-1 < pred_size: # draw prediction with prevention out of prediction size\n",
        "                    ax[i, j].imshow(prediction[0, :, :, i*num_fig_grid_col+j-1], cmap='gray')\n",
        "                    # ax[i, j].set_title('Prediction with layer {} and kernel {}'.format(num_layer, i*num_fig_grid_col+j), fontsize=8)\n",
        "                    plt.rc('xtick',labelsize=tick_lable_size)\n",
        "                    plt.rc('ytick',labelsize=tick_lable_size)\n",
        "                    ax[i, j].axis(axis_toggle)\n",
        "                else:\n",
        "                    plt.rc('xtick',labelsize=tick_lable_size)\n",
        "                    plt.rc('ytick',labelsize=tick_lable_size)\n",
        "                    ax[i, j].axis(axis_toggle)\n",
        "    plt.show()  \n",
        "    \n",
        "MODEL = 'generator' #@param ['generator', 'discriminator'] {type:'string'} \n",
        "num_layer = 24 #@param  {type:'slider', min:0, max:30, step:1} \n",
        "num_column = 16 #@param  {type:'slider', min:0, max:64, step:2} \n",
        "\n",
        "for example_input, example_target in test_dataset.take(1):\n",
        "    for i in range(num_layer):\n",
        "        generate_feature_map(model_type=MODEL, num_layer=i, test_input=example_input, tar=example_target, \n",
        "                             num_fig_grid_col=num_column) "
      ]
    },
    {
      "cell_type": "markdown",
      "metadata": {
        "id": "eTNwFofbqe46"
      },
      "source": [
        "## Restore the latest checkpoint and test"
      ]
    },
    {
      "cell_type": "code",
      "execution_count": null,
      "metadata": {
        "id": "d1JXnT83ZOG-"
      },
      "outputs": [],
      "source": [
        "!ls {checkpoint_dir}\n",
        "print(checkpoint_dir)"
      ]
    },
    {
      "cell_type": "code",
      "execution_count": null,
      "metadata": {
        "id": "hTbZcv-taJS6"
      },
      "outputs": [],
      "source": [
        "# restoring the latest checkpoint in checkpoint_dir\n",
        "checkpoint.restore(tf.train.latest_checkpoint(checkpoint_dir))"
      ]
    },
    {
      "cell_type": "markdown",
      "metadata": {
        "id": "TlBgiLgUlmD4"
      },
      "source": [
        "## Create with the given design conditions\n",
        "The condition images should be placed in the val dataset; this cell will use the images to generate the corresponding solutions."
      ]
    },
    {
      "cell_type": "code",
      "execution_count": null,
      "metadata": {
        "id": "_7cnqbqNbHor"
      },
      "outputs": [],
      "source": [
        "# Run the trained model on the provided example (design condition) from the val dataset\n",
        "for inp, tar in val_dataset.take(-1): ######## generate predictive image by testing the model with one image (or more) within the training set ########-----------------------\n",
        "  generate_images(generator, inp, tar) # call generate_images() method to finish the job"
      ]
    },
    {
      "cell_type": "code",
      "execution_count": null,
      "metadata": {
        "id": "UlI0DNmp2PX7"
      },
      "outputs": [],
      "source": [
        "# Run the trained model on the provided example (design condition) from the val dataset\n",
        "for inp, tar in test_dataset.take(-1): ######## generate predictive image by testing the model with one image (or more) within the training set ########-----------------------\n",
        "  generate_images(generator, inp, tar) # call generate_images() method to finish the job"
      ]
    }
  ],
  "metadata": {
    "accelerator": "GPU",
    "colab": {
      "machine_shape": "hm",
      "provenance": [],
      "toc_visible": true,
      "include_colab_link": true
    },
    "gpuClass": "standard",
    "kernelspec": {
      "display_name": "Python 3",
      "name": "python3"
    }
  },
  "nbformat": 4,
  "nbformat_minor": 0
}